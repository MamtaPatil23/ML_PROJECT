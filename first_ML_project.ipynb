{
 "cells": [
  {
   "cell_type": "markdown",
   "metadata": {
    "id": "FNC4nize7KXS"
   },
   "source": [
    "# **compound solubility prediction's **\n"
   ]
  },
  {
   "cell_type": "markdown",
   "metadata": {
    "id": "25Vxv1iF7Y9_"
   },
   "source": [
    "# **Load data**"
   ]
  },
  {
   "cell_type": "code",
   "execution_count": 1,
   "metadata": {
    "colab": {
     "base_uri": "https://localhost:8080/",
     "height": 424
    },
    "id": "He_caBHQ6jL5",
    "outputId": "e60c2905-46e1-476c-f9e5-ba30956ac8dd"
   },
   "outputs": [
    {
     "data": {
      "text/html": [
       "<div>\n",
       "<style scoped>\n",
       "    .dataframe tbody tr th:only-of-type {\n",
       "        vertical-align: middle;\n",
       "    }\n",
       "\n",
       "    .dataframe tbody tr th {\n",
       "        vertical-align: top;\n",
       "    }\n",
       "\n",
       "    .dataframe thead th {\n",
       "        text-align: right;\n",
       "    }\n",
       "</style>\n",
       "<table border=\"1\" class=\"dataframe\">\n",
       "  <thead>\n",
       "    <tr style=\"text-align: right;\">\n",
       "      <th></th>\n",
       "      <th>MolLogP</th>\n",
       "      <th>MolWt</th>\n",
       "      <th>NumRotatableBonds</th>\n",
       "      <th>AromaticProportion</th>\n",
       "      <th>logS</th>\n",
       "    </tr>\n",
       "  </thead>\n",
       "  <tbody>\n",
       "    <tr>\n",
       "      <th>0</th>\n",
       "      <td>2.59540</td>\n",
       "      <td>167.850</td>\n",
       "      <td>0.0</td>\n",
       "      <td>0.000000</td>\n",
       "      <td>-2.180</td>\n",
       "    </tr>\n",
       "    <tr>\n",
       "      <th>1</th>\n",
       "      <td>2.37650</td>\n",
       "      <td>133.405</td>\n",
       "      <td>0.0</td>\n",
       "      <td>0.000000</td>\n",
       "      <td>-2.000</td>\n",
       "    </tr>\n",
       "    <tr>\n",
       "      <th>2</th>\n",
       "      <td>2.59380</td>\n",
       "      <td>167.850</td>\n",
       "      <td>1.0</td>\n",
       "      <td>0.000000</td>\n",
       "      <td>-1.740</td>\n",
       "    </tr>\n",
       "    <tr>\n",
       "      <th>3</th>\n",
       "      <td>2.02890</td>\n",
       "      <td>133.405</td>\n",
       "      <td>1.0</td>\n",
       "      <td>0.000000</td>\n",
       "      <td>-1.480</td>\n",
       "    </tr>\n",
       "    <tr>\n",
       "      <th>4</th>\n",
       "      <td>2.91890</td>\n",
       "      <td>187.375</td>\n",
       "      <td>1.0</td>\n",
       "      <td>0.000000</td>\n",
       "      <td>-3.040</td>\n",
       "    </tr>\n",
       "    <tr>\n",
       "      <th>...</th>\n",
       "      <td>...</td>\n",
       "      <td>...</td>\n",
       "      <td>...</td>\n",
       "      <td>...</td>\n",
       "      <td>...</td>\n",
       "    </tr>\n",
       "    <tr>\n",
       "      <th>1139</th>\n",
       "      <td>1.98820</td>\n",
       "      <td>287.343</td>\n",
       "      <td>8.0</td>\n",
       "      <td>0.000000</td>\n",
       "      <td>1.144</td>\n",
       "    </tr>\n",
       "    <tr>\n",
       "      <th>1140</th>\n",
       "      <td>3.42130</td>\n",
       "      <td>286.114</td>\n",
       "      <td>2.0</td>\n",
       "      <td>0.333333</td>\n",
       "      <td>-4.925</td>\n",
       "    </tr>\n",
       "    <tr>\n",
       "      <th>1141</th>\n",
       "      <td>3.60960</td>\n",
       "      <td>308.333</td>\n",
       "      <td>4.0</td>\n",
       "      <td>0.695652</td>\n",
       "      <td>-3.893</td>\n",
       "    </tr>\n",
       "    <tr>\n",
       "      <th>1142</th>\n",
       "      <td>2.56214</td>\n",
       "      <td>354.815</td>\n",
       "      <td>3.0</td>\n",
       "      <td>0.521739</td>\n",
       "      <td>-3.790</td>\n",
       "    </tr>\n",
       "    <tr>\n",
       "      <th>1143</th>\n",
       "      <td>2.02164</td>\n",
       "      <td>179.219</td>\n",
       "      <td>1.0</td>\n",
       "      <td>0.461538</td>\n",
       "      <td>-2.581</td>\n",
       "    </tr>\n",
       "  </tbody>\n",
       "</table>\n",
       "<p>1144 rows × 5 columns</p>\n",
       "</div>"
      ],
      "text/plain": [
       "      MolLogP    MolWt  NumRotatableBonds  AromaticProportion   logS\n",
       "0     2.59540  167.850                0.0            0.000000 -2.180\n",
       "1     2.37650  133.405                0.0            0.000000 -2.000\n",
       "2     2.59380  167.850                1.0            0.000000 -1.740\n",
       "3     2.02890  133.405                1.0            0.000000 -1.480\n",
       "4     2.91890  187.375                1.0            0.000000 -3.040\n",
       "...       ...      ...                ...                 ...    ...\n",
       "1139  1.98820  287.343                8.0            0.000000  1.144\n",
       "1140  3.42130  286.114                2.0            0.333333 -4.925\n",
       "1141  3.60960  308.333                4.0            0.695652 -3.893\n",
       "1142  2.56214  354.815                3.0            0.521739 -3.790\n",
       "1143  2.02164  179.219                1.0            0.461538 -2.581\n",
       "\n",
       "[1144 rows x 5 columns]"
      ]
     },
     "execution_count": 1,
     "metadata": {},
     "output_type": "execute_result"
    }
   ],
   "source": [
    "import pandas as pd\n",
    "\n",
    "df = pd.read_csv('delaney_solubility_with_descriptors.csv')\n",
    "df"
   ]
  },
  {
   "cell_type": "markdown",
   "metadata": {
    "id": "S_6YQIs_9fH2"
   },
   "source": [
    "# **Data preparation**"
   ]
  },
  {
   "cell_type": "markdown",
   "metadata": {
    "id": "fsTJwt4r9keK"
   },
   "source": [
    "## Data separation as X and y"
   ]
  },
  {
   "cell_type": "code",
   "execution_count": 2,
   "metadata": {
    "colab": {
     "base_uri": "https://localhost:8080/"
    },
    "id": "Aju4__Qx9egR",
    "outputId": "7674a71e-f94b-447c-d3ad-77dedc6b19df"
   },
   "outputs": [
    {
     "data": {
      "text/plain": [
       "0      -2.180\n",
       "1      -2.000\n",
       "2      -1.740\n",
       "3      -1.480\n",
       "4      -3.040\n",
       "        ...  \n",
       "1139    1.144\n",
       "1140   -4.925\n",
       "1141   -3.893\n",
       "1142   -3.790\n",
       "1143   -2.581\n",
       "Name: logS, Length: 1144, dtype: float64"
      ]
     },
     "execution_count": 2,
     "metadata": {},
     "output_type": "execute_result"
    }
   ],
   "source": [
    "y = df['logS']\n",
    "y"
   ]
  },
  {
   "cell_type": "code",
   "execution_count": 3,
   "metadata": {
    "colab": {
     "base_uri": "https://localhost:8080/",
     "height": 424
    },
    "id": "PKDTmEIt9zX7",
    "outputId": "0f076684-0118-4b8f-8d64-df5a9785f1f3"
   },
   "outputs": [
    {
     "data": {
      "text/html": [
       "<div>\n",
       "<style scoped>\n",
       "    .dataframe tbody tr th:only-of-type {\n",
       "        vertical-align: middle;\n",
       "    }\n",
       "\n",
       "    .dataframe tbody tr th {\n",
       "        vertical-align: top;\n",
       "    }\n",
       "\n",
       "    .dataframe thead th {\n",
       "        text-align: right;\n",
       "    }\n",
       "</style>\n",
       "<table border=\"1\" class=\"dataframe\">\n",
       "  <thead>\n",
       "    <tr style=\"text-align: right;\">\n",
       "      <th></th>\n",
       "      <th>MolLogP</th>\n",
       "      <th>MolWt</th>\n",
       "      <th>NumRotatableBonds</th>\n",
       "      <th>AromaticProportion</th>\n",
       "    </tr>\n",
       "  </thead>\n",
       "  <tbody>\n",
       "    <tr>\n",
       "      <th>0</th>\n",
       "      <td>2.59540</td>\n",
       "      <td>167.850</td>\n",
       "      <td>0.0</td>\n",
       "      <td>0.000000</td>\n",
       "    </tr>\n",
       "    <tr>\n",
       "      <th>1</th>\n",
       "      <td>2.37650</td>\n",
       "      <td>133.405</td>\n",
       "      <td>0.0</td>\n",
       "      <td>0.000000</td>\n",
       "    </tr>\n",
       "    <tr>\n",
       "      <th>2</th>\n",
       "      <td>2.59380</td>\n",
       "      <td>167.850</td>\n",
       "      <td>1.0</td>\n",
       "      <td>0.000000</td>\n",
       "    </tr>\n",
       "    <tr>\n",
       "      <th>3</th>\n",
       "      <td>2.02890</td>\n",
       "      <td>133.405</td>\n",
       "      <td>1.0</td>\n",
       "      <td>0.000000</td>\n",
       "    </tr>\n",
       "    <tr>\n",
       "      <th>4</th>\n",
       "      <td>2.91890</td>\n",
       "      <td>187.375</td>\n",
       "      <td>1.0</td>\n",
       "      <td>0.000000</td>\n",
       "    </tr>\n",
       "    <tr>\n",
       "      <th>...</th>\n",
       "      <td>...</td>\n",
       "      <td>...</td>\n",
       "      <td>...</td>\n",
       "      <td>...</td>\n",
       "    </tr>\n",
       "    <tr>\n",
       "      <th>1139</th>\n",
       "      <td>1.98820</td>\n",
       "      <td>287.343</td>\n",
       "      <td>8.0</td>\n",
       "      <td>0.000000</td>\n",
       "    </tr>\n",
       "    <tr>\n",
       "      <th>1140</th>\n",
       "      <td>3.42130</td>\n",
       "      <td>286.114</td>\n",
       "      <td>2.0</td>\n",
       "      <td>0.333333</td>\n",
       "    </tr>\n",
       "    <tr>\n",
       "      <th>1141</th>\n",
       "      <td>3.60960</td>\n",
       "      <td>308.333</td>\n",
       "      <td>4.0</td>\n",
       "      <td>0.695652</td>\n",
       "    </tr>\n",
       "    <tr>\n",
       "      <th>1142</th>\n",
       "      <td>2.56214</td>\n",
       "      <td>354.815</td>\n",
       "      <td>3.0</td>\n",
       "      <td>0.521739</td>\n",
       "    </tr>\n",
       "    <tr>\n",
       "      <th>1143</th>\n",
       "      <td>2.02164</td>\n",
       "      <td>179.219</td>\n",
       "      <td>1.0</td>\n",
       "      <td>0.461538</td>\n",
       "    </tr>\n",
       "  </tbody>\n",
       "</table>\n",
       "<p>1144 rows × 4 columns</p>\n",
       "</div>"
      ],
      "text/plain": [
       "      MolLogP    MolWt  NumRotatableBonds  AromaticProportion\n",
       "0     2.59540  167.850                0.0            0.000000\n",
       "1     2.37650  133.405                0.0            0.000000\n",
       "2     2.59380  167.850                1.0            0.000000\n",
       "3     2.02890  133.405                1.0            0.000000\n",
       "4     2.91890  187.375                1.0            0.000000\n",
       "...       ...      ...                ...                 ...\n",
       "1139  1.98820  287.343                8.0            0.000000\n",
       "1140  3.42130  286.114                2.0            0.333333\n",
       "1141  3.60960  308.333                4.0            0.695652\n",
       "1142  2.56214  354.815                3.0            0.521739\n",
       "1143  2.02164  179.219                1.0            0.461538\n",
       "\n",
       "[1144 rows x 4 columns]"
      ]
     },
     "execution_count": 3,
     "metadata": {},
     "output_type": "execute_result"
    }
   ],
   "source": [
    "X = df.drop('logS', axis=1)\n",
    "X"
   ]
  },
  {
   "cell_type": "markdown",
   "metadata": {
    "id": "FWgN9vQp-QJg"
   },
   "source": [
    "## Data splitting"
   ]
  },
  {
   "cell_type": "code",
   "execution_count": 4,
   "metadata": {
    "id": "ZRR5UNar-AVY"
   },
   "outputs": [],
   "source": [
    "from sklearn.model_selection import train_test_split\n",
    "\n",
    "\n",
    "X_train, X_test, y_train, y_test = train_test_split(X, y, test_size=0.2, random_state=100)"
   ]
  },
  {
   "cell_type": "code",
   "execution_count": 5,
   "metadata": {
    "colab": {
     "base_uri": "https://localhost:8080/",
     "height": 424
    },
    "id": "Qr7WeW4t-nfb",
    "outputId": "28f3492f-1425-4754-e68b-ae342334f5f1"
   },
   "outputs": [
    {
     "data": {
      "text/html": [
       "<div>\n",
       "<style scoped>\n",
       "    .dataframe tbody tr th:only-of-type {\n",
       "        vertical-align: middle;\n",
       "    }\n",
       "\n",
       "    .dataframe tbody tr th {\n",
       "        vertical-align: top;\n",
       "    }\n",
       "\n",
       "    .dataframe thead th {\n",
       "        text-align: right;\n",
       "    }\n",
       "</style>\n",
       "<table border=\"1\" class=\"dataframe\">\n",
       "  <thead>\n",
       "    <tr style=\"text-align: right;\">\n",
       "      <th></th>\n",
       "      <th>MolLogP</th>\n",
       "      <th>MolWt</th>\n",
       "      <th>NumRotatableBonds</th>\n",
       "      <th>AromaticProportion</th>\n",
       "    </tr>\n",
       "  </thead>\n",
       "  <tbody>\n",
       "    <tr>\n",
       "      <th>107</th>\n",
       "      <td>3.14280</td>\n",
       "      <td>112.216</td>\n",
       "      <td>5.0</td>\n",
       "      <td>0.000000</td>\n",
       "    </tr>\n",
       "    <tr>\n",
       "      <th>378</th>\n",
       "      <td>-2.07850</td>\n",
       "      <td>142.070</td>\n",
       "      <td>0.0</td>\n",
       "      <td>0.000000</td>\n",
       "    </tr>\n",
       "    <tr>\n",
       "      <th>529</th>\n",
       "      <td>-0.47730</td>\n",
       "      <td>168.152</td>\n",
       "      <td>0.0</td>\n",
       "      <td>0.000000</td>\n",
       "    </tr>\n",
       "    <tr>\n",
       "      <th>546</th>\n",
       "      <td>-0.86740</td>\n",
       "      <td>154.125</td>\n",
       "      <td>0.0</td>\n",
       "      <td>0.000000</td>\n",
       "    </tr>\n",
       "    <tr>\n",
       "      <th>320</th>\n",
       "      <td>1.62150</td>\n",
       "      <td>100.161</td>\n",
       "      <td>2.0</td>\n",
       "      <td>0.000000</td>\n",
       "    </tr>\n",
       "    <tr>\n",
       "      <th>...</th>\n",
       "      <td>...</td>\n",
       "      <td>...</td>\n",
       "      <td>...</td>\n",
       "      <td>...</td>\n",
       "    </tr>\n",
       "    <tr>\n",
       "      <th>802</th>\n",
       "      <td>3.00254</td>\n",
       "      <td>250.301</td>\n",
       "      <td>1.0</td>\n",
       "      <td>0.842105</td>\n",
       "    </tr>\n",
       "    <tr>\n",
       "      <th>53</th>\n",
       "      <td>2.13860</td>\n",
       "      <td>82.146</td>\n",
       "      <td>3.0</td>\n",
       "      <td>0.000000</td>\n",
       "    </tr>\n",
       "    <tr>\n",
       "      <th>350</th>\n",
       "      <td>5.76304</td>\n",
       "      <td>256.348</td>\n",
       "      <td>0.0</td>\n",
       "      <td>0.900000</td>\n",
       "    </tr>\n",
       "    <tr>\n",
       "      <th>79</th>\n",
       "      <td>3.89960</td>\n",
       "      <td>186.339</td>\n",
       "      <td>10.0</td>\n",
       "      <td>0.000000</td>\n",
       "    </tr>\n",
       "    <tr>\n",
       "      <th>792</th>\n",
       "      <td>2.52334</td>\n",
       "      <td>310.297</td>\n",
       "      <td>3.0</td>\n",
       "      <td>0.300000</td>\n",
       "    </tr>\n",
       "  </tbody>\n",
       "</table>\n",
       "<p>915 rows × 4 columns</p>\n",
       "</div>"
      ],
      "text/plain": [
       "     MolLogP    MolWt  NumRotatableBonds  AromaticProportion\n",
       "107  3.14280  112.216                5.0            0.000000\n",
       "378 -2.07850  142.070                0.0            0.000000\n",
       "529 -0.47730  168.152                0.0            0.000000\n",
       "546 -0.86740  154.125                0.0            0.000000\n",
       "320  1.62150  100.161                2.0            0.000000\n",
       "..       ...      ...                ...                 ...\n",
       "802  3.00254  250.301                1.0            0.842105\n",
       "53   2.13860   82.146                3.0            0.000000\n",
       "350  5.76304  256.348                0.0            0.900000\n",
       "79   3.89960  186.339               10.0            0.000000\n",
       "792  2.52334  310.297                3.0            0.300000\n",
       "\n",
       "[915 rows x 4 columns]"
      ]
     },
     "execution_count": 5,
     "metadata": {},
     "output_type": "execute_result"
    }
   ],
   "source": [
    "X_train"
   ]
  },
  {
   "cell_type": "code",
   "execution_count": 6,
   "metadata": {
    "colab": {
     "base_uri": "https://localhost:8080/",
     "height": 424
    },
    "id": "0E3gw5T0-7Dp",
    "outputId": "cfaafbf8-faaf-4c3e-89ed-2bbe2e0ba2dd"
   },
   "outputs": [
    {
     "data": {
      "text/html": [
       "<div>\n",
       "<style scoped>\n",
       "    .dataframe tbody tr th:only-of-type {\n",
       "        vertical-align: middle;\n",
       "    }\n",
       "\n",
       "    .dataframe tbody tr th {\n",
       "        vertical-align: top;\n",
       "    }\n",
       "\n",
       "    .dataframe thead th {\n",
       "        text-align: right;\n",
       "    }\n",
       "</style>\n",
       "<table border=\"1\" class=\"dataframe\">\n",
       "  <thead>\n",
       "    <tr style=\"text-align: right;\">\n",
       "      <th></th>\n",
       "      <th>MolLogP</th>\n",
       "      <th>MolWt</th>\n",
       "      <th>NumRotatableBonds</th>\n",
       "      <th>AromaticProportion</th>\n",
       "    </tr>\n",
       "  </thead>\n",
       "  <tbody>\n",
       "    <tr>\n",
       "      <th>822</th>\n",
       "      <td>2.91000</td>\n",
       "      <td>172.268</td>\n",
       "      <td>7.0</td>\n",
       "      <td>0.000000</td>\n",
       "    </tr>\n",
       "    <tr>\n",
       "      <th>118</th>\n",
       "      <td>7.27400</td>\n",
       "      <td>360.882</td>\n",
       "      <td>1.0</td>\n",
       "      <td>0.666667</td>\n",
       "    </tr>\n",
       "    <tr>\n",
       "      <th>347</th>\n",
       "      <td>1.94040</td>\n",
       "      <td>145.161</td>\n",
       "      <td>0.0</td>\n",
       "      <td>0.909091</td>\n",
       "    </tr>\n",
       "    <tr>\n",
       "      <th>1123</th>\n",
       "      <td>1.98640</td>\n",
       "      <td>119.378</td>\n",
       "      <td>0.0</td>\n",
       "      <td>0.000000</td>\n",
       "    </tr>\n",
       "    <tr>\n",
       "      <th>924</th>\n",
       "      <td>1.70062</td>\n",
       "      <td>108.140</td>\n",
       "      <td>0.0</td>\n",
       "      <td>0.750000</td>\n",
       "    </tr>\n",
       "    <tr>\n",
       "      <th>...</th>\n",
       "      <td>...</td>\n",
       "      <td>...</td>\n",
       "      <td>...</td>\n",
       "      <td>...</td>\n",
       "    </tr>\n",
       "    <tr>\n",
       "      <th>1114</th>\n",
       "      <td>1.76210</td>\n",
       "      <td>478.513</td>\n",
       "      <td>4.0</td>\n",
       "      <td>0.000000</td>\n",
       "    </tr>\n",
       "    <tr>\n",
       "      <th>427</th>\n",
       "      <td>6.32820</td>\n",
       "      <td>276.338</td>\n",
       "      <td>0.0</td>\n",
       "      <td>1.000000</td>\n",
       "    </tr>\n",
       "    <tr>\n",
       "      <th>711</th>\n",
       "      <td>0.04430</td>\n",
       "      <td>218.205</td>\n",
       "      <td>5.0</td>\n",
       "      <td>0.000000</td>\n",
       "    </tr>\n",
       "    <tr>\n",
       "      <th>4</th>\n",
       "      <td>2.91890</td>\n",
       "      <td>187.375</td>\n",
       "      <td>1.0</td>\n",
       "      <td>0.000000</td>\n",
       "    </tr>\n",
       "    <tr>\n",
       "      <th>948</th>\n",
       "      <td>3.56010</td>\n",
       "      <td>318.328</td>\n",
       "      <td>2.0</td>\n",
       "      <td>0.750000</td>\n",
       "    </tr>\n",
       "  </tbody>\n",
       "</table>\n",
       "<p>229 rows × 4 columns</p>\n",
       "</div>"
      ],
      "text/plain": [
       "      MolLogP    MolWt  NumRotatableBonds  AromaticProportion\n",
       "822   2.91000  172.268                7.0            0.000000\n",
       "118   7.27400  360.882                1.0            0.666667\n",
       "347   1.94040  145.161                0.0            0.909091\n",
       "1123  1.98640  119.378                0.0            0.000000\n",
       "924   1.70062  108.140                0.0            0.750000\n",
       "...       ...      ...                ...                 ...\n",
       "1114  1.76210  478.513                4.0            0.000000\n",
       "427   6.32820  276.338                0.0            1.000000\n",
       "711   0.04430  218.205                5.0            0.000000\n",
       "4     2.91890  187.375                1.0            0.000000\n",
       "948   3.56010  318.328                2.0            0.750000\n",
       "\n",
       "[229 rows x 4 columns]"
      ]
     },
     "execution_count": 6,
     "metadata": {},
     "output_type": "execute_result"
    }
   ],
   "source": [
    "X_test"
   ]
  },
  {
   "cell_type": "markdown",
   "metadata": {
    "id": "K7e6T8g8Afap"
   },
   "source": [
    "# **Model Building**"
   ]
  },
  {
   "cell_type": "markdown",
   "metadata": {
    "id": "5woH2891AlRZ"
   },
   "source": [
    "## **Linear Regression**"
   ]
  },
  {
   "cell_type": "markdown",
   "metadata": {
    "id": "ZHJF5xg_BZoP"
   },
   "source": [
    "### **Training the model**"
   ]
  },
  {
   "cell_type": "code",
   "execution_count": 7,
   "metadata": {
    "colab": {
     "base_uri": "https://localhost:8080/"
    },
    "id": "wytJG7HN-9im",
    "outputId": "c3f72227-081f-4b99-934d-bf14706ea0da"
   },
   "outputs": [
    {
     "data": {
      "text/html": [
       "<style>#sk-container-id-1 {color: black;background-color: white;}#sk-container-id-1 pre{padding: 0;}#sk-container-id-1 div.sk-toggleable {background-color: white;}#sk-container-id-1 label.sk-toggleable__label {cursor: pointer;display: block;width: 100%;margin-bottom: 0;padding: 0.3em;box-sizing: border-box;text-align: center;}#sk-container-id-1 label.sk-toggleable__label-arrow:before {content: \"▸\";float: left;margin-right: 0.25em;color: #696969;}#sk-container-id-1 label.sk-toggleable__label-arrow:hover:before {color: black;}#sk-container-id-1 div.sk-estimator:hover label.sk-toggleable__label-arrow:before {color: black;}#sk-container-id-1 div.sk-toggleable__content {max-height: 0;max-width: 0;overflow: hidden;text-align: left;background-color: #f0f8ff;}#sk-container-id-1 div.sk-toggleable__content pre {margin: 0.2em;color: black;border-radius: 0.25em;background-color: #f0f8ff;}#sk-container-id-1 input.sk-toggleable__control:checked~div.sk-toggleable__content {max-height: 200px;max-width: 100%;overflow: auto;}#sk-container-id-1 input.sk-toggleable__control:checked~label.sk-toggleable__label-arrow:before {content: \"▾\";}#sk-container-id-1 div.sk-estimator input.sk-toggleable__control:checked~label.sk-toggleable__label {background-color: #d4ebff;}#sk-container-id-1 div.sk-label input.sk-toggleable__control:checked~label.sk-toggleable__label {background-color: #d4ebff;}#sk-container-id-1 input.sk-hidden--visually {border: 0;clip: rect(1px 1px 1px 1px);clip: rect(1px, 1px, 1px, 1px);height: 1px;margin: -1px;overflow: hidden;padding: 0;position: absolute;width: 1px;}#sk-container-id-1 div.sk-estimator {font-family: monospace;background-color: #f0f8ff;border: 1px dotted black;border-radius: 0.25em;box-sizing: border-box;margin-bottom: 0.5em;}#sk-container-id-1 div.sk-estimator:hover {background-color: #d4ebff;}#sk-container-id-1 div.sk-parallel-item::after {content: \"\";width: 100%;border-bottom: 1px solid gray;flex-grow: 1;}#sk-container-id-1 div.sk-label:hover label.sk-toggleable__label {background-color: #d4ebff;}#sk-container-id-1 div.sk-serial::before {content: \"\";position: absolute;border-left: 1px solid gray;box-sizing: border-box;top: 0;bottom: 0;left: 50%;z-index: 0;}#sk-container-id-1 div.sk-serial {display: flex;flex-direction: column;align-items: center;background-color: white;padding-right: 0.2em;padding-left: 0.2em;position: relative;}#sk-container-id-1 div.sk-item {position: relative;z-index: 1;}#sk-container-id-1 div.sk-parallel {display: flex;align-items: stretch;justify-content: center;background-color: white;position: relative;}#sk-container-id-1 div.sk-item::before, #sk-container-id-1 div.sk-parallel-item::before {content: \"\";position: absolute;border-left: 1px solid gray;box-sizing: border-box;top: 0;bottom: 0;left: 50%;z-index: -1;}#sk-container-id-1 div.sk-parallel-item {display: flex;flex-direction: column;z-index: 1;position: relative;background-color: white;}#sk-container-id-1 div.sk-parallel-item:first-child::after {align-self: flex-end;width: 50%;}#sk-container-id-1 div.sk-parallel-item:last-child::after {align-self: flex-start;width: 50%;}#sk-container-id-1 div.sk-parallel-item:only-child::after {width: 0;}#sk-container-id-1 div.sk-dashed-wrapped {border: 1px dashed gray;margin: 0 0.4em 0.5em 0.4em;box-sizing: border-box;padding-bottom: 0.4em;background-color: white;}#sk-container-id-1 div.sk-label label {font-family: monospace;font-weight: bold;display: inline-block;line-height: 1.2em;}#sk-container-id-1 div.sk-label-container {text-align: center;}#sk-container-id-1 div.sk-container {/* jupyter's `normalize.less` sets `[hidden] { display: none; }` but bootstrap.min.css set `[hidden] { display: none !important; }` so we also need the `!important` here to be able to override the default hidden behavior on the sphinx rendered scikit-learn.org. See: https://github.com/scikit-learn/scikit-learn/issues/21755 */display: inline-block !important;position: relative;}#sk-container-id-1 div.sk-text-repr-fallback {display: none;}</style><div id=\"sk-container-id-1\" class=\"sk-top-container\"><div class=\"sk-text-repr-fallback\"><pre>LinearRegression()</pre><b>In a Jupyter environment, please rerun this cell to show the HTML representation or trust the notebook. <br />On GitHub, the HTML representation is unable to render, please try loading this page with nbviewer.org.</b></div><div class=\"sk-container\" hidden><div class=\"sk-item\"><div class=\"sk-estimator sk-toggleable\"><input class=\"sk-toggleable__control sk-hidden--visually\" id=\"sk-estimator-id-1\" type=\"checkbox\" checked><label for=\"sk-estimator-id-1\" class=\"sk-toggleable__label sk-toggleable__label-arrow\">LinearRegression</label><div class=\"sk-toggleable__content\"><pre>LinearRegression()</pre></div></div></div></div></div>"
      ],
      "text/plain": [
       "LinearRegression()"
      ]
     },
     "execution_count": 7,
     "metadata": {},
     "output_type": "execute_result"
    }
   ],
   "source": [
    "from sklearn.linear_model import LinearRegression\n",
    "\n",
    "lr = LinearRegression()\n",
    "lr.fit(X_train, y_train)"
   ]
  },
  {
   "cell_type": "markdown",
   "metadata": {
    "id": "_PVoZXs5BdM3"
   },
   "source": [
    "### **Applying the model to make a prediction**"
   ]
  },
  {
   "cell_type": "code",
   "execution_count": 8,
   "metadata": {
    "id": "d75s1FiaBRo6"
   },
   "outputs": [],
   "source": [
    "y_lr_train_pred = lr.predict(X_train)\n",
    "y_lr_test_pred = lr.predict(X_test)"
   ]
  },
  {
   "cell_type": "code",
   "execution_count": 9,
   "metadata": {
    "colab": {
     "base_uri": "https://localhost:8080/"
    },
    "id": "tEsmABQuB615",
    "outputId": "0bad2bb1-a420-4418-a431-883f615d42da"
   },
   "outputs": [
    {
     "data": {
      "text/plain": [
       "array([-2.83668969,  0.84208401, -0.50930302, -0.13058053, -1.6269208 ,\n",
       "       -2.86103037, -2.32208333, -4.16684323, -5.04235077, -2.29737009,\n",
       "       -3.15082845, -4.33037208, -1.43700682, -2.59060064, -7.09025955,\n",
       "       -2.32734557, -4.19073421, -2.63904005, -3.58104074, -3.75929058,\n",
       "       -2.5501665 , -3.26968347, -2.78911367, -2.69251051, -0.77437547,\n",
       "       -6.61955792, -2.99084623, -2.36975061, -7.18167736, -1.52816491,\n",
       "       -4.81736265, -0.86996608, -7.09025955, -1.87404275, -2.58013247,\n",
       "       -4.80953284, -4.17454084, -1.95444152, -3.50503339, -2.7411418 ,\n",
       "       -1.87131835, -2.45270806, -3.07252433, -1.48988982, -3.98778754,\n",
       "       -1.35216679, -0.16932277, -6.05237002, -3.29550658,  0.30513174,\n",
       "       -3.25501463, -5.31993586, -0.4733928 , -4.79180882, -5.82486323,\n",
       "       -2.70343539, -3.70838271, -2.4987341 , -2.12301018, -3.11393974,\n",
       "       -2.79842053, -1.38274662, -4.3267103 , -3.57778946, -3.42356884,\n",
       "       -9.15826626, -6.52588866, -1.75832085, -4.97842312, -1.59255758,\n",
       "       -1.91317252, -2.81075595, -1.14056747, -1.6326702 , -1.6269208 ,\n",
       "       -5.33227425, -3.88805074,  0.70432882, -3.99288096, -2.22595859,\n",
       "       -2.63405871, -1.80643013, -4.18615661, -0.32535905, -3.36770115,\n",
       "       -2.94105086, -3.02039211, -2.01312164, -2.97735566, -2.58917919,\n",
       "       -6.78423811, -2.34521849, -3.11841945, -0.8177211 , -1.69000394,\n",
       "       -1.20887457, -3.4996968 , -4.98602607, -4.36391839, -1.59023154,\n",
       "       -1.36030606, -1.97047357, -2.63177729, -2.88308299, -5.15950486,\n",
       "       -5.67559475, -3.04604495, -5.17135083, -1.38069437, -4.57622144,\n",
       "       -3.72245121, -5.49591484, -3.39797976, -6.025302  , -3.80350106,\n",
       "       -5.72200956, -0.20160041, -0.54441899, -1.4937231 , -4.17747099,\n",
       "       -5.31993586, -5.30332414, -4.68554881, -2.54472004, -1.91317252,\n",
       "       -5.0001379 , -1.29322696, -4.9018288 , -5.72200956, -1.63254894,\n",
       "       -0.50844757, -2.79777831, -3.40409244, -3.75108143, -2.13430517,\n",
       "       -2.3552617 , -4.47491213, -1.37020598, -2.98467788, -1.1097015 ,\n",
       "       -2.65582153, -2.03469435, -3.82343254, -3.40409244, -3.86002039,\n",
       "       -1.6454705 , -1.67610138, -2.25004084, -2.35293566, -3.97998511,\n",
       "       -0.45142958, -3.70838271, -3.21804175, -3.26826004, -3.5011185 ,\n",
       "       -0.69767632, -4.61318325, -2.53209123, -1.58352433,  0.11192491,\n",
       "       -2.071356  , -2.52212098, -5.16155398, -3.79386016, -2.05580278,\n",
       "       -3.0712261 , -5.04235077, -4.57622144, -0.59059425, -2.11738204,\n",
       "       -0.14035732, -2.15201095, -3.90580754, -7.85208391, -1.77124241,\n",
       "       -3.87977779, -1.17409032, -5.38735798, -0.38776428, -5.13905974,\n",
       "       -6.52588866, -2.37600268, -3.67042165, -1.13694063, -1.52979384,\n",
       "       -1.08806317, -2.17972634, -1.37566371, -1.69000394, -5.55433014,\n",
       "       -4.38095601, -6.16274514, -5.75210573, -5.38139309, -2.1485872 ,\n",
       "       -2.41257831, -1.21383508, -2.77794109, -2.77375743, -0.97332586,\n",
       "       -0.07359075, -2.97947129, -3.43909806, -3.0639354 , -2.42856294,\n",
       "       -6.51455759, -4.60929775, -3.36134518, -1.66451803, -0.34748753,\n",
       "       -4.91887429, -1.5001642 , -2.55131925, -5.03116753, -1.1504684 ,\n",
       "       -3.58407147, -7.22253774, -0.40922333, -3.44344971, -5.60855562,\n",
       "       -8.54996931, -2.63926987, -1.35467792, -4.73905926, -1.92627702,\n",
       "       -1.76204643, -2.04984044, -6.42989154, -5.4209013 , -5.4954495 ,\n",
       "       -4.91209304, -1.84841838, -3.11841945, -1.19248532, -3.52050251,\n",
       "       -1.6049836 , -3.31107991, -4.69327814,  0.6106115 , -3.60652062,\n",
       "       -4.63133161, -2.5020505 , -1.04661836, -0.70671111, -2.77794109,\n",
       "       -1.96622986, -1.24556874, -2.04067926, -0.47784193, -1.60070017,\n",
       "       -1.73602998, -4.74777582, -2.35789126, -1.89320334, -4.94447725,\n",
       "       -3.52116416, -1.03137202, -2.42722214, -2.41726714, -3.31243827,\n",
       "       -2.45036038, -2.45036038, -2.09804761, -5.79050585, -2.12301018,\n",
       "       -1.69652767, -5.04235077, -2.7183962 , -2.74034339, -3.08792242,\n",
       "        1.16237365, -1.97390964, -2.36955435, -1.59518714, -2.64877661,\n",
       "       -2.72328327, -1.69263351, -3.78676756, -2.70478582, -0.97951662,\n",
       "       -6.17522371, -2.57848244, -4.23239293, -1.56313602, -4.14016489,\n",
       "       -1.89020434, -0.42981761, -2.99158591, -4.47466933, -2.01820507,\n",
       "       -2.27836725, -2.199028  , -4.05306078, -2.47347008, -1.21383508,\n",
       "       -1.74165812, -1.03137202, -6.35437784, -2.13973631, -9.87954886,\n",
       "       -1.51156575, -7.7015858 , -2.99084623, -2.90410699, -4.2232049 ,\n",
       "       -2.01933871, -2.33668279, -2.81929845, -3.12088453, -4.42161212,\n",
       "       -0.83133436, -2.63385972, -2.49648251, -0.79480376, -4.64013859,\n",
       "       -4.39618439, -2.32058101, -2.61616401, -3.36987763, -1.51156575,\n",
       "       -0.76911634, -2.06238448, -2.89331618, -4.57622144, -1.19907316,\n",
       "       -2.72328327, -3.50414148, -3.10460597, -1.21005686, -4.38704198,\n",
       "       -1.92623036, -4.17035059, -4.97728572, -1.79026429, -2.35283034,\n",
       "       -3.59939381, -2.79154825, -3.25842453, -2.25768799, -2.14996491,\n",
       "       -4.95790808, -1.4036531 , -4.64502179, -2.31758244, -3.01521178,\n",
       "       -5.1577739 , -4.68504851, -2.98727379, -2.16925807, -2.65875355,\n",
       "       -4.53388983, -3.39620209, -2.97542583, -2.63426164, -7.77785827,\n",
       "       -2.34848929, -3.95395012, -3.14810449, -2.99620551, -4.19807234,\n",
       "       -2.57905657, -5.72200956, -1.86861231, -1.48463069, -2.03428932,\n",
       "       -7.44538031, -6.08246673, -3.2086445 , -2.137733  , -8.85737405,\n",
       "       -3.15699268, -3.71109719, -0.99642961, -3.14546555, -5.48811295,\n",
       "       -1.14179382, -4.15137001, -0.50933463, -4.69151986, -0.55120689,\n",
       "       -3.24367474, -1.59518714, -4.86486127, -1.10853776, -3.06678132,\n",
       "       -5.01101651, -3.95482844, -1.69000394, -4.69639167, -1.26852213,\n",
       "       -4.30518407, -4.30377221, -2.23526305, -4.34616365, -0.23583339,\n",
       "       -6.05831529, -3.63698515, -4.07880131, -3.2950999 , -1.75169752,\n",
       "       -4.64981547, -2.68788426, -2.81766206, -3.38232674, -2.14927143,\n",
       "       -5.44407214,  1.93550814, -0.12972508, -1.49498387, -2.50036024,\n",
       "       -2.06396429, -5.93855312, -2.53403538, -2.89650533, -1.58868434,\n",
       "       -5.73999593, -1.97390964, -4.64393496, -3.96695922, -1.30865188,\n",
       "       -1.8711556 , -6.01555673, -4.75194249, -2.1532237 , -1.26674801,\n",
       "       -4.60929775, -1.75320392, -3.16591868, -2.35789126, -2.73044354,\n",
       "        1.43453026, -3.29138689, -2.41564138, -3.88412944, -5.4954495 ,\n",
       "       -1.64461506, -2.29089681, -2.32781082, -2.75074329, -3.88113542,\n",
       "       -2.85196407, -1.59255758, -0.83248302, -5.41251959, -3.26968347,\n",
       "       -1.83271568, -2.12301018, -0.45113096, -5.34942367, -0.69635755,\n",
       "       -3.86581957, -3.82343254, -3.71474837, -3.36603645, -4.49530092,\n",
       "       -5.04887579, -5.16431192, -6.08708502, -0.63401868, -2.99158591,\n",
       "       -7.77785827, -1.48607797, -4.66162003, -2.39395831, -3.75517868,\n",
       "       -4.61318325, -4.17747099, -2.199028  , -3.01607829, -2.50036024,\n",
       "       -1.88703307, -3.62102758, -3.51234807, -3.16279877, -7.09898181,\n",
       "       -2.70478582, -3.37625597, -1.83271568, -3.87356837, -1.73865954,\n",
       "       -2.88008616, -2.22977044, -6.70156561, -8.03717765, -5.33606465,\n",
       "       -4.17657514, -5.01827423, -1.39251992, -1.36030606, -1.94448808,\n",
       "       -4.00428682, -4.29865745, -1.3893508 , -0.39302341, -1.51156575,\n",
       "       -2.34521849, -1.29089314, -0.97595542, -2.41038224, -4.0790451 ,\n",
       "       -2.6818627 , -7.27035604, -3.46876907, -0.83629487, -3.25056894,\n",
       "       -2.77794109, -2.70606495, -0.88802552,  0.33102924, -8.73475591,\n",
       "       -6.08789325, -2.49648251, -0.84907925, -3.69568743, -4.37642963,\n",
       "       -0.79254201,  1.98868187, -1.96622986, -2.69309202, -2.75566249,\n",
       "       -2.80004662, -2.92698197, -2.29452458, -4.40478538, -3.41695228,\n",
       "       -2.97735566, -4.53250784, -3.12440723, -1.48607797, -6.64951931,\n",
       "       -1.29322696, -3.59615687, -4.84056475, -2.0637599 , -5.4954495 ,\n",
       "       -1.13275935, -2.80728543, -2.40237156, -2.68666558, -3.44429049,\n",
       "       -2.41959844, -4.95743275, -6.40483191, -5.13905974, -5.05708901,\n",
       "       -1.66084991, -2.37974001, -2.05580278, -3.39656384, -1.42271129,\n",
       "       -2.77786114, -2.30422683, -5.53938357, -4.30027875, -6.08708502,\n",
       "       -1.53182046, -4.03471242, -0.35059383, -3.43858076, -5.34063365,\n",
       "       -2.65303434, -0.32225969, -5.89030528, -1.66084991, -7.09025955,\n",
       "       -1.66084991, -4.32045753, -3.2950999 , -4.00428682, -2.65971931,\n",
       "       -2.61898292, -1.48081884, -3.31248863, -4.1285441 ,  0.81081357,\n",
       "       -0.74032142, -0.55409165, -1.48988982, -4.2835894 , -3.52940291,\n",
       "       -3.67078501, -3.11422447, -1.35216679, -2.33929584, -3.735629  ,\n",
       "       -5.99133424,  1.68379176, -5.72200956, -1.1504684 , -3.78441114,\n",
       "       -2.04833812, -4.23871436, -4.3723975 , -2.25259394, -3.75430163,\n",
       "       -3.79386016, -4.33406929, -0.79254201, -2.72091671, -2.32584014,\n",
       "       -3.04247237, -4.57422729, -2.05580278, -2.19679345,  0.21720962,\n",
       "       -2.33668279, -3.18126918, -5.18323201, -1.1504684 , -2.82306619,\n",
       "       -3.81016932, -0.62641139, -1.79284653, -3.0572287 , -2.68205673,\n",
       "       -3.47393942, -1.35730748, -2.35283034, -5.29861673, -3.42242343,\n",
       "       -2.33668279, -3.15515412, -0.81254078, -2.32158664, -7.23311502,\n",
       "       -4.27331505, -0.41608127, -0.92992939, -2.85102139, -2.38452854,\n",
       "       -1.35467792, -5.35250249, -4.61318325, -3.36770115, -4.54753068,\n",
       "       -1.21120552, -1.41272408, -0.62894611, -5.46722693, -2.80332864,\n",
       "       -4.70222762, -4.20128488, -3.75287911, -2.89485114,  0.44470271,\n",
       "       -2.75272546, -6.40483191, -3.43858076, -1.33564461, -7.39989571,\n",
       "       -2.3552617 , -1.97390964, -3.31913336, -0.99788515, -1.49117202,\n",
       "        2.54283347, -2.57935977, -1.5372532 , -1.46969589, -5.50256395,\n",
       "       -2.84523685, -5.79050585, -0.72972899, -4.50417895, -3.41743324,\n",
       "       -1.89701519, -3.04694269, -1.10327863, -1.48988982, -2.81732645,\n",
       "       -6.11716924, -7.16934656, -1.96622986, -3.91516316, -3.61172065,\n",
       "       -6.40483191, -2.05580278, -3.67078501, -5.54561991, -2.93180057,\n",
       "       -3.27180065, -2.72328327, -2.53353851, -1.11363181, -2.90610261,\n",
       "       -1.10853776, -1.49259585, -1.15572753, -4.70049144,  1.99249372,\n",
       "       -1.80643013, -8.46728525, -4.32045753, -1.19196129, -2.25004084,\n",
       "       -1.94336083, -1.87633593, -9.15826626, -3.65922507, -2.29683578,\n",
       "       -0.5325366 , -7.5914365 , -2.15587374, -1.90396018, -1.78645244,\n",
       "       -4.36890615, -1.91112045, -5.28950294, -3.70838271, -3.34373141,\n",
       "       -3.82343254, -3.84290966, -1.75395277, -2.82944893, -1.92755736,\n",
       "       -3.95353483, -2.51949142, -4.16972153, -0.47784193, -2.80004662,\n",
       "       -2.08049675, -1.57187693, -3.79234971, -1.27341971, -1.10845148,\n",
       "       -3.87977779, -1.08911411, -2.73044354, -1.76722676, -2.22965253,\n",
       "       -3.56321848, -6.67044148, -1.51156575, -0.24983949, -1.72672119,\n",
       "       -2.14897281, -4.05818764, -2.37140338, -1.897265  , -1.42797042,\n",
       "       -3.08706826, -4.24521459, -6.52588866, -4.60929775, -4.67022068,\n",
       "       -2.03122625, -3.11841945, -5.04235077,  0.60553271, -8.46728525,\n",
       "       -4.23480474, -2.75684478, -2.14339849, -1.5231707 , -2.67587664,\n",
       "       -3.59418929, -5.68837433, -5.02111613, -0.94099449, -3.51200413,\n",
       "       -1.41666505, -1.9765392 , -2.67587664, -5.87753962, -3.73205662,\n",
       "       -2.65599022, -2.46014399, -3.93774254, -8.46728525, -0.43381828,\n",
       "       -3.81993282, -3.25038467, -5.64350181, -4.18419436, -6.47162256,\n",
       "       -2.29452458, -3.70387135, -6.42099768, -1.53182046, -2.45533763,\n",
       "       -1.91317252, -2.137733  , -1.31128145, -3.16496704, -2.22556914,\n",
       "       -3.81016932, -2.44235234, -2.76845189, -2.73924332, -1.59715854,\n",
       "       -2.90610261, -7.77785827, -2.74034339, -7.77785827, -6.53218341,\n",
       "       -2.55678026, -2.59432621, -6.06602826, -2.73144347, -2.39319255,\n",
       "       -3.79386016, -6.40483191, -1.32841939, -1.62955037, -4.07880131,\n",
       "       -2.42494059, -6.04136471, -1.63103729, -5.2602532 , -3.86312053,\n",
       "       -2.12601292, -4.28342693, -2.6178098 , -7.14847318, -1.53350725,\n",
       "       -1.08911411, -4.24790282, -4.63837202, -3.79691901, -2.13813936,\n",
       "       -3.86772233, -1.2281273 , -3.7672691 , -4.28538142, -1.43139099,\n",
       "       -3.40980857, -2.6111225 , -1.41272408, -3.07730828, -3.90594959,\n",
       "       -2.35283034, -0.7271857 , -4.19010154, -0.69374352, -1.10472591,\n",
       "       -1.62166167, -3.90123327, -2.78518496, -3.43585411, -3.92684454,\n",
       "       -2.54406861, -1.91317252, -1.77769503, -0.79480376, -4.23915408,\n",
       "       -1.51148185, -1.14665655, -2.00855418, -7.03862139, -2.74305517,\n",
       "       -2.11738204, -3.42356884, -2.49648251, -2.1372074 , -1.88151626,\n",
       "       -1.62653948, -4.00428682, -2.04784256, -4.47943132, -2.61216962,\n",
       "       -1.69531648, -5.54561991, -7.77785827, -2.13315833, -6.08238994,\n",
       "       -0.73579117, -1.90396018, -3.66566374, -3.26337102, -3.5528319 ,\n",
       "       -0.88717007, -4.50417895, -3.93774254, -2.31911758, -1.79407614,\n",
       "       -2.73044354, -1.62464083, -3.36099002, -1.68087565, -4.17747099,\n",
       "       -4.36658559, -2.68703435, -5.54667039, -2.40682831, -5.07481336,\n",
       "       -3.80377549, -2.93847429, -3.69840797, -3.63698515, -2.77930842,\n",
       "       -0.77056362, -2.37730267,  1.68379176, -3.2158222 , -3.70838271,\n",
       "       -3.17308636, -4.36923501, -0.44844001, -5.24894879, -6.52225128,\n",
       "       -1.80406335, -1.80643013, -1.90447849, -5.52193556, -2.07398557,\n",
       "       -3.22132977, -6.70156561, -5.44962012, -1.25610101, -3.35223802,\n",
       "       -3.98606913, -1.89546347, -6.08789325, -3.88711135, -3.78407726])"
      ]
     },
     "execution_count": 9,
     "metadata": {},
     "output_type": "execute_result"
    }
   ],
   "source": [
    "y_lr_train_pred"
   ]
  },
  {
   "cell_type": "code",
   "execution_count": 10,
   "metadata": {
    "colab": {
     "base_uri": "https://localhost:8080/"
    },
    "id": "S0ODinTOB-8H",
    "outputId": "a9c62e37-7a65-4243-a30f-398827fb55e4"
   },
   "outputs": [
    {
     "data": {
      "text/plain": [
       "array([-3.05722870e+00, -7.77785827e+00, -2.55016650e+00, -2.01523582e+00,\n",
       "       -2.06375990e+00, -9.99672215e-01, -5.94603364e-01, -5.53626003e-01,\n",
       "       -5.72200956e+00, -3.94006681e+00, -3.95496755e+00, -2.29737009e+00,\n",
       "       -1.48980354e+00, -1.48988982e+00, -4.64510806e+00, -1.90396018e+00,\n",
       "       -1.51566313e+00, -3.16424605e+00, -3.70863920e+00, -5.58105660e+00,\n",
       "       -3.25038467e+00, -5.04235077e+00, -5.69194881e+00, -2.14339849e+00,\n",
       "       -4.35689341e+00, -5.03964756e+00, -3.10383618e+00, -4.40286964e+00,\n",
       "       -4.21276272e+00,  5.56508349e-01, -1.45537678e+00, -4.41027396e+00,\n",
       "       -2.59668773e+00, -1.53336276e+00, -5.55749874e-01, -1.67111795e+00,\n",
       "       -2.78163675e+00, -3.15395565e+00, -5.27083361e+00, -1.75321446e+00,\n",
       "       -1.53350725e+00, -2.01255666e+00, -6.57559167e+00, -7.89433046e+00,\n",
       "       -5.76437127e+00, -4.16422068e+00, -3.43694663e+00,  1.43834212e+00,\n",
       "       -1.12679105e-02, -2.34521849e+00, -1.86480046e+00, -5.03964756e+00,\n",
       "        8.55886378e-01, -3.17679292e+00, -5.06764094e+00, -1.99464442e+00,\n",
       "       -7.77785827e+00, -1.21764693e+00, -9.09541075e-01, -5.04235077e+00,\n",
       "       -2.43898748e+00, -2.84034045e+00, -2.53403538e+00, -2.36170311e+00,\n",
       "       -1.63103729e+00, -1.53182046e+00, -3.23931568e+00, -2.88008616e+00,\n",
       "       -1.88300518e+00, -3.21582220e+00, -3.40245202e+00, -9.01813905e-01,\n",
       "       -4.82308940e+00, -7.69116343e-01, -7.12894308e+00, -1.05440427e+01,\n",
       "       -1.95444152e+00, -3.50194744e+00, -7.18167736e+00, -6.01555673e+00,\n",
       "       -2.08189806e+00, -2.31652280e+00, -3.44556948e+00, -2.05480142e+00,\n",
       "       -6.01555673e+00, -2.88308299e+00, -4.84867198e+00, -3.51006495e-01,\n",
       "       -3.54726250e+00, -1.21057919e+00, -4.36658559e+00, -4.21815903e-01,\n",
       "       -1.63103729e+00, -2.51604291e+00, -2.16707077e+00, -1.48726025e+00,\n",
       "       -3.20864450e+00, -1.51411141e+00, -1.65033691e+00, -3.66287663e+00,\n",
       "       -3.26968347e+00, -3.94492313e+00, -4.22509088e+00, -3.68794650e+00,\n",
       "       -5.98734972e+00, -1.43710934e+00, -1.97653920e+00, -1.85076729e+00,\n",
       "       -1.14179382e+00, -3.07730828e+00, -4.84867198e+00, -2.19679345e+00,\n",
       "       -1.68737438e+00, -2.20390218e+00,  1.89408269e+00, -3.61322115e+00,\n",
       "       -2.79173430e+00, -2.41564138e+00, -7.53910534e-01, -8.54744860e-01,\n",
       "       -9.20407401e-02, -6.14209981e+00, -3.79386016e+00, -7.77785827e+00,\n",
       "       -1.79874130e+00, -2.50544035e+00, -3.77102985e+00, -2.25250766e+00,\n",
       "       -2.57788713e+00, -2.06375990e+00, -3.33843958e+00, -1.03912484e+00,\n",
       "       -6.68946164e+00, -1.91112045e+00, -2.58735850e+00, -2.19902800e+00,\n",
       "       -1.90219551e+00, -2.81396751e+00, -4.16972153e+00, -5.72200956e+00,\n",
       "       -1.60816482e+00, -3.68121117e+00, -4.60929775e+00, -2.45888480e+00,\n",
       "        1.13185484e+00, -1.69279625e+00, -7.09025955e+00, -3.79386016e+00,\n",
       "       -2.99712058e+00, -5.79600137e+00, -2.44845780e+00, -5.29399242e+00,\n",
       "       -5.29389899e-01, -3.53652118e+00, -3.51200413e+00, -2.02419300e+00,\n",
       "       -4.47466933e+00, -3.63836536e+00, -4.56596939e+00, -5.57842703e+00,\n",
       "       -5.30676136e+00, -2.39225449e+00, -4.88290144e+00, -2.61359308e+00,\n",
       "       -3.11841945e+00, -2.05580278e+00, -1.64987419e+00, -4.91881901e+00,\n",
       "       -3.93774254e+00, -4.26411548e+00, -3.15082845e+00, -3.49352203e+00,\n",
       "       -3.81768831e+00, -3.77197350e+00, -2.55016650e+00, -1.97653920e+00,\n",
       "       -2.59432621e+00, -5.38480406e+00, -5.44932525e+00, -3.04107137e+00,\n",
       "       -1.87252408e+00, -2.25124657e+00, -2.89215707e+00, -3.46087334e+00,\n",
       "       -6.06861986e+00, -1.89916369e+00, -1.98035105e+00, -2.45036038e+00,\n",
       "       -2.79393037e+00, -4.76010415e+00, -1.72379306e+00, -7.09025955e+00,\n",
       "       -2.86880150e+00, -2.70674744e+00, -4.36825704e+00, -3.11841945e+00,\n",
       "       -3.85805633e+00,  9.78662246e-03, -4.47466933e+00, -6.08708502e+00,\n",
       "       -5.19970454e+00, -6.40483191e+00, -4.10155218e+00, -1.07044752e+00,\n",
       "        1.99249372e+00, -3.63698515e+00, -8.50933009e-01, -3.26770298e+00,\n",
       "       -4.78343575e+00, -1.48988982e+00, -2.24629276e+00, -4.13247222e+00,\n",
       "       -4.36873484e+00, -1.89724815e+00, -1.50596465e+00, -1.16713539e-02,\n",
       "       -1.73602998e+00, -2.34521849e+00, -4.54942814e-01, -4.18812419e+00,\n",
       "       -1.87770440e+00, -3.70838271e+00, -1.59899899e+00, -3.26143822e+00,\n",
       "       -4.17623614e+00, -6.67872053e+00, -1.23069039e+00, -3.14545964e+00,\n",
       "       -4.79863925e+00])"
      ]
     },
     "execution_count": 10,
     "metadata": {},
     "output_type": "execute_result"
    }
   ],
   "source": [
    "y_lr_test_pred"
   ]
  },
  {
   "cell_type": "markdown",
   "metadata": {
    "id": "zpvSzhtzCOEW"
   },
   "source": [
    "### **Evaluate model performance**"
   ]
  },
  {
   "cell_type": "code",
   "execution_count": 11,
   "metadata": {
    "id": "LQ7o2RBbCm-c"
   },
   "outputs": [],
   "source": [
    "from sklearn.metrics import mean_squared_error, r2_score\n",
    "\n",
    "lr_train_mse = mean_squared_error(y_train, y_lr_train_pred)\n",
    "lr_train_r2 = r2_score(y_train, y_lr_train_pred)\n",
    "\n",
    "lr_test_mse = mean_squared_error(y_test, y_lr_test_pred)\n",
    "lr_test_r2 = r2_score(y_test, y_lr_test_pred)"
   ]
  },
  {
   "cell_type": "code",
   "execution_count": 12,
   "metadata": {
    "colab": {
     "base_uri": "https://localhost:8080/"
    },
    "id": "HindUkvEDI52",
    "outputId": "cf68fa83-54a8-4feb-a7b9-dc200bedbcb2"
   },
   "outputs": [
    {
     "name": "stdout",
     "output_type": "stream",
     "text": [
      "LR MSE (Train):  1.0075362951093687\n",
      "LR R2 (Train):  0.7645051774663391\n",
      "LR MSE (Test):  1.0206953660861031\n",
      "LR R2 (Test):  0.7891616188563282\n"
     ]
    }
   ],
   "source": [
    "print('LR MSE (Train): ', lr_train_mse)\n",
    "print('LR R2 (Train): ', lr_train_r2)\n",
    "print('LR MSE (Test): ', lr_test_mse)\n",
    "print('LR R2 (Test): ', lr_test_r2)"
   ]
  },
  {
   "cell_type": "code",
   "execution_count": 13,
   "metadata": {
    "id": "OgztRbiEDks_"
   },
   "outputs": [],
   "source": [
    "lr_results = pd.DataFrame(['Linear regression', lr_train_mse, lr_train_r2, lr_test_mse, lr_test_r2]).transpose()\n",
    "lr_results.columns = ['Method', 'Training MSE', 'Training R2', 'Test MSE', 'Test R2']"
   ]
  },
  {
   "cell_type": "code",
   "execution_count": 14,
   "metadata": {
    "colab": {
     "base_uri": "https://localhost:8080/",
     "height": 81
    },
    "id": "jaGG_6VHDwaH",
    "outputId": "feae1448-2f9f-4307-9e86-099793a81f2b"
   },
   "outputs": [
    {
     "data": {
      "text/html": [
       "<div>\n",
       "<style scoped>\n",
       "    .dataframe tbody tr th:only-of-type {\n",
       "        vertical-align: middle;\n",
       "    }\n",
       "\n",
       "    .dataframe tbody tr th {\n",
       "        vertical-align: top;\n",
       "    }\n",
       "\n",
       "    .dataframe thead th {\n",
       "        text-align: right;\n",
       "    }\n",
       "</style>\n",
       "<table border=\"1\" class=\"dataframe\">\n",
       "  <thead>\n",
       "    <tr style=\"text-align: right;\">\n",
       "      <th></th>\n",
       "      <th>Method</th>\n",
       "      <th>Training MSE</th>\n",
       "      <th>Training R2</th>\n",
       "      <th>Test MSE</th>\n",
       "      <th>Test R2</th>\n",
       "    </tr>\n",
       "  </thead>\n",
       "  <tbody>\n",
       "    <tr>\n",
       "      <th>0</th>\n",
       "      <td>Linear regression</td>\n",
       "      <td>1.007536</td>\n",
       "      <td>0.764505</td>\n",
       "      <td>1.020695</td>\n",
       "      <td>0.789162</td>\n",
       "    </tr>\n",
       "  </tbody>\n",
       "</table>\n",
       "</div>"
      ],
      "text/plain": [
       "              Method Training MSE Training R2  Test MSE   Test R2\n",
       "0  Linear regression     1.007536    0.764505  1.020695  0.789162"
      ]
     },
     "execution_count": 14,
     "metadata": {},
     "output_type": "execute_result"
    }
   ],
   "source": [
    "lr_results"
   ]
  },
  {
   "cell_type": "markdown",
   "metadata": {
    "id": "8CNt9k8qENOw"
   },
   "source": [
    "## **Random Forest**"
   ]
  },
  {
   "cell_type": "markdown",
   "metadata": {
    "id": "zFQXxAWAElNT"
   },
   "source": [
    "### **Training the model**"
   ]
  },
  {
   "cell_type": "code",
   "execution_count": 15,
   "metadata": {
    "colab": {
     "base_uri": "https://localhost:8080/"
    },
    "id": "6_fxutrfDxdJ",
    "outputId": "01a05a08-be91-4529-9399-9966d0d12de8"
   },
   "outputs": [
    {
     "data": {
      "text/html": [
       "<style>#sk-container-id-2 {color: black;background-color: white;}#sk-container-id-2 pre{padding: 0;}#sk-container-id-2 div.sk-toggleable {background-color: white;}#sk-container-id-2 label.sk-toggleable__label {cursor: pointer;display: block;width: 100%;margin-bottom: 0;padding: 0.3em;box-sizing: border-box;text-align: center;}#sk-container-id-2 label.sk-toggleable__label-arrow:before {content: \"▸\";float: left;margin-right: 0.25em;color: #696969;}#sk-container-id-2 label.sk-toggleable__label-arrow:hover:before {color: black;}#sk-container-id-2 div.sk-estimator:hover label.sk-toggleable__label-arrow:before {color: black;}#sk-container-id-2 div.sk-toggleable__content {max-height: 0;max-width: 0;overflow: hidden;text-align: left;background-color: #f0f8ff;}#sk-container-id-2 div.sk-toggleable__content pre {margin: 0.2em;color: black;border-radius: 0.25em;background-color: #f0f8ff;}#sk-container-id-2 input.sk-toggleable__control:checked~div.sk-toggleable__content {max-height: 200px;max-width: 100%;overflow: auto;}#sk-container-id-2 input.sk-toggleable__control:checked~label.sk-toggleable__label-arrow:before {content: \"▾\";}#sk-container-id-2 div.sk-estimator input.sk-toggleable__control:checked~label.sk-toggleable__label {background-color: #d4ebff;}#sk-container-id-2 div.sk-label input.sk-toggleable__control:checked~label.sk-toggleable__label {background-color: #d4ebff;}#sk-container-id-2 input.sk-hidden--visually {border: 0;clip: rect(1px 1px 1px 1px);clip: rect(1px, 1px, 1px, 1px);height: 1px;margin: -1px;overflow: hidden;padding: 0;position: absolute;width: 1px;}#sk-container-id-2 div.sk-estimator {font-family: monospace;background-color: #f0f8ff;border: 1px dotted black;border-radius: 0.25em;box-sizing: border-box;margin-bottom: 0.5em;}#sk-container-id-2 div.sk-estimator:hover {background-color: #d4ebff;}#sk-container-id-2 div.sk-parallel-item::after {content: \"\";width: 100%;border-bottom: 1px solid gray;flex-grow: 1;}#sk-container-id-2 div.sk-label:hover label.sk-toggleable__label {background-color: #d4ebff;}#sk-container-id-2 div.sk-serial::before {content: \"\";position: absolute;border-left: 1px solid gray;box-sizing: border-box;top: 0;bottom: 0;left: 50%;z-index: 0;}#sk-container-id-2 div.sk-serial {display: flex;flex-direction: column;align-items: center;background-color: white;padding-right: 0.2em;padding-left: 0.2em;position: relative;}#sk-container-id-2 div.sk-item {position: relative;z-index: 1;}#sk-container-id-2 div.sk-parallel {display: flex;align-items: stretch;justify-content: center;background-color: white;position: relative;}#sk-container-id-2 div.sk-item::before, #sk-container-id-2 div.sk-parallel-item::before {content: \"\";position: absolute;border-left: 1px solid gray;box-sizing: border-box;top: 0;bottom: 0;left: 50%;z-index: -1;}#sk-container-id-2 div.sk-parallel-item {display: flex;flex-direction: column;z-index: 1;position: relative;background-color: white;}#sk-container-id-2 div.sk-parallel-item:first-child::after {align-self: flex-end;width: 50%;}#sk-container-id-2 div.sk-parallel-item:last-child::after {align-self: flex-start;width: 50%;}#sk-container-id-2 div.sk-parallel-item:only-child::after {width: 0;}#sk-container-id-2 div.sk-dashed-wrapped {border: 1px dashed gray;margin: 0 0.4em 0.5em 0.4em;box-sizing: border-box;padding-bottom: 0.4em;background-color: white;}#sk-container-id-2 div.sk-label label {font-family: monospace;font-weight: bold;display: inline-block;line-height: 1.2em;}#sk-container-id-2 div.sk-label-container {text-align: center;}#sk-container-id-2 div.sk-container {/* jupyter's `normalize.less` sets `[hidden] { display: none; }` but bootstrap.min.css set `[hidden] { display: none !important; }` so we also need the `!important` here to be able to override the default hidden behavior on the sphinx rendered scikit-learn.org. See: https://github.com/scikit-learn/scikit-learn/issues/21755 */display: inline-block !important;position: relative;}#sk-container-id-2 div.sk-text-repr-fallback {display: none;}</style><div id=\"sk-container-id-2\" class=\"sk-top-container\"><div class=\"sk-text-repr-fallback\"><pre>RandomForestRegressor(max_depth=2, random_state=100)</pre><b>In a Jupyter environment, please rerun this cell to show the HTML representation or trust the notebook. <br />On GitHub, the HTML representation is unable to render, please try loading this page with nbviewer.org.</b></div><div class=\"sk-container\" hidden><div class=\"sk-item\"><div class=\"sk-estimator sk-toggleable\"><input class=\"sk-toggleable__control sk-hidden--visually\" id=\"sk-estimator-id-2\" type=\"checkbox\" checked><label for=\"sk-estimator-id-2\" class=\"sk-toggleable__label sk-toggleable__label-arrow\">RandomForestRegressor</label><div class=\"sk-toggleable__content\"><pre>RandomForestRegressor(max_depth=2, random_state=100)</pre></div></div></div></div></div>"
      ],
      "text/plain": [
       "RandomForestRegressor(max_depth=2, random_state=100)"
      ]
     },
     "execution_count": 15,
     "metadata": {},
     "output_type": "execute_result"
    }
   ],
   "source": [
    "from sklearn.ensemble import RandomForestRegressor\n",
    "\n",
    "rf = RandomForestRegressor(max_depth=2, random_state=100)\n",
    "rf.fit(X_train, y_train)"
   ]
  },
  {
   "cell_type": "markdown",
   "metadata": {
    "id": "5jc8O_VAEoEf"
   },
   "source": [
    "### **Applying the model to make a prediction**"
   ]
  },
  {
   "cell_type": "code",
   "execution_count": 16,
   "metadata": {
    "id": "Batj8MmUFSL0"
   },
   "outputs": [],
   "source": [
    "y_rf_train_pred = rf.predict(X_train)\n",
    "y_rf_test_pred = rf.predict(X_test)"
   ]
  },
  {
   "cell_type": "markdown",
   "metadata": {
    "id": "vO4HfuhZErCu"
   },
   "source": [
    "### **Evaluate model performance**"
   ]
  },
  {
   "cell_type": "code",
   "execution_count": 17,
   "metadata": {
    "id": "jKNWP5Y8FYea"
   },
   "outputs": [],
   "source": [
    "from sklearn.metrics import mean_squared_error, r2_score\n",
    "\n",
    "rf_train_mse = mean_squared_error(y_train, y_rf_train_pred)\n",
    "rf_train_r2 = r2_score(y_train, y_rf_train_pred)\n",
    "\n",
    "rf_test_mse = mean_squared_error(y_test, y_rf_test_pred)\n",
    "rf_test_r2 = r2_score(y_test, y_rf_test_pred)"
   ]
  },
  {
   "cell_type": "code",
   "execution_count": 18,
   "metadata": {
    "colab": {
     "base_uri": "https://localhost:8080/",
     "height": 81
    },
    "id": "QykSvn0xFkLP",
    "outputId": "b590d7fd-604d-47c7-b237-a75fa82711ff"
   },
   "outputs": [
    {
     "data": {
      "text/html": [
       "<div>\n",
       "<style scoped>\n",
       "    .dataframe tbody tr th:only-of-type {\n",
       "        vertical-align: middle;\n",
       "    }\n",
       "\n",
       "    .dataframe tbody tr th {\n",
       "        vertical-align: top;\n",
       "    }\n",
       "\n",
       "    .dataframe thead th {\n",
       "        text-align: right;\n",
       "    }\n",
       "</style>\n",
       "<table border=\"1\" class=\"dataframe\">\n",
       "  <thead>\n",
       "    <tr style=\"text-align: right;\">\n",
       "      <th></th>\n",
       "      <th>Method</th>\n",
       "      <th>Training MSE</th>\n",
       "      <th>Training R2</th>\n",
       "      <th>Test MSE</th>\n",
       "      <th>Test R2</th>\n",
       "    </tr>\n",
       "  </thead>\n",
       "  <tbody>\n",
       "    <tr>\n",
       "      <th>0</th>\n",
       "      <td>Random forest</td>\n",
       "      <td>1.028228</td>\n",
       "      <td>0.759669</td>\n",
       "      <td>1.407688</td>\n",
       "      <td>0.709223</td>\n",
       "    </tr>\n",
       "  </tbody>\n",
       "</table>\n",
       "</div>"
      ],
      "text/plain": [
       "          Method Training MSE Training R2  Test MSE   Test R2\n",
       "0  Random forest     1.028228    0.759669  1.407688  0.709223"
      ]
     },
     "execution_count": 18,
     "metadata": {},
     "output_type": "execute_result"
    }
   ],
   "source": [
    "rf_results = pd.DataFrame(['Random forest', rf_train_mse, rf_train_r2, rf_test_mse, rf_test_r2]).transpose()\n",
    "rf_results.columns = ['Method', 'Training MSE', 'Training R2', 'Test MSE', 'Test R2']\n",
    "rf_results"
   ]
  },
  {
   "cell_type": "markdown",
   "metadata": {
    "id": "ntqCwrr_F1ei"
   },
   "source": [
    "## **Model comparison**"
   ]
  },
  {
   "cell_type": "code",
   "execution_count": 19,
   "metadata": {
    "colab": {
     "base_uri": "https://localhost:8080/",
     "height": 112
    },
    "id": "EOSeTeNpFsc7",
    "outputId": "4a43f46c-cbb1-4f31-bd68-4731567061da"
   },
   "outputs": [
    {
     "data": {
      "text/html": [
       "<div>\n",
       "<style scoped>\n",
       "    .dataframe tbody tr th:only-of-type {\n",
       "        vertical-align: middle;\n",
       "    }\n",
       "\n",
       "    .dataframe tbody tr th {\n",
       "        vertical-align: top;\n",
       "    }\n",
       "\n",
       "    .dataframe thead th {\n",
       "        text-align: right;\n",
       "    }\n",
       "</style>\n",
       "<table border=\"1\" class=\"dataframe\">\n",
       "  <thead>\n",
       "    <tr style=\"text-align: right;\">\n",
       "      <th></th>\n",
       "      <th>Method</th>\n",
       "      <th>Training MSE</th>\n",
       "      <th>Training R2</th>\n",
       "      <th>Test MSE</th>\n",
       "      <th>Test R2</th>\n",
       "    </tr>\n",
       "  </thead>\n",
       "  <tbody>\n",
       "    <tr>\n",
       "      <th>0</th>\n",
       "      <td>Linear regression</td>\n",
       "      <td>1.007536</td>\n",
       "      <td>0.764505</td>\n",
       "      <td>1.020695</td>\n",
       "      <td>0.789162</td>\n",
       "    </tr>\n",
       "    <tr>\n",
       "      <th>0</th>\n",
       "      <td>Random forest</td>\n",
       "      <td>1.028228</td>\n",
       "      <td>0.759669</td>\n",
       "      <td>1.407688</td>\n",
       "      <td>0.709223</td>\n",
       "    </tr>\n",
       "  </tbody>\n",
       "</table>\n",
       "</div>"
      ],
      "text/plain": [
       "              Method Training MSE Training R2  Test MSE   Test R2\n",
       "0  Linear regression     1.007536    0.764505  1.020695  0.789162\n",
       "0      Random forest     1.028228    0.759669  1.407688  0.709223"
      ]
     },
     "execution_count": 19,
     "metadata": {},
     "output_type": "execute_result"
    }
   ],
   "source": [
    "df_models = pd.concat([lr_results, rf_results], axis=0)\n",
    "df_models"
   ]
  },
  {
   "cell_type": "markdown",
   "metadata": {
    "id": "Ec77v0xLIaGh"
   },
   "source": [
    "# **Data visualization of prediction results**"
   ]
  },
  {
   "cell_type": "code",
   "execution_count": 20,
   "metadata": {
    "colab": {
     "base_uri": "https://localhost:8080/",
     "height": 352
    },
    "id": "O2ErUWJ2GVQs",
    "outputId": "630652ce-4068-43e2-87af-94b75738d7ee"
   },
   "outputs": [
    {
     "data": {
      "text/plain": [
       "Text(0.5, 0, 'Experimental LogS')"
      ]
     },
     "execution_count": 20,
     "metadata": {},
     "output_type": "execute_result"
    },
    {
     "data": {
      "image/png": "[encoded data removed]",
      "text/plain": [
       "<Figure size 500x500 with 1 Axes>"
      ]
     },
     "metadata": {},
     "output_type": "display_data"
    }
   ],
   "source": [
    "import matplotlib.pyplot as plt\n",
    "\n",
    "\n",
    "\n",
    "plt.figure(figsize=(5,5))\n",
    "plt.scatter(x=y_train, y=y_lr_train_pred, c=\"g\")\n",
    "\n",
    "plt.ylabel('Predict LogS')\n",
    "plt.xlabel('Experimental LogS')"
   ]
  }
 ],
 "metadata": {
  "colab": {
   "collapsed_sections": [],
   "name": "first-ML-project.ipynb",
   "provenance": [],
   "toc_visible": true
  },
  "kernelspec": {
   "display_name": "Python 3 (ipykernel)",
   "language": "python",
   "name": "python3"
  },
  "language_info": {
   "codemirror_mode": {
    "name": "ipython",
    "version": 3
   },
   "file_extension": ".py",
   "mimetype": "text/x-python",
   "name": "python",
   "nbconvert_exporter": "python",
   "pygments_lexer": "ipython3",
   "version": "3.10.9"
  }
 },
 "nbformat": 4,
 "nbformat_minor": 1
}
